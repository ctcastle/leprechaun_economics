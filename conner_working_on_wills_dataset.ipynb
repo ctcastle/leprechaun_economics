{
 "cells": [
  {
   "cell_type": "markdown",
   "id": "5c1ad907",
   "metadata": {},
   "source": [
    "Workbook\n",
    "\n",
    "First step is to load in the data into separate pandas dataframes"
   ]
  },
  {
   "cell_type": "code",
   "execution_count": 2,
   "id": "4949547a",
   "metadata": {},
   "outputs": [],
   "source": [
    "import numpy as np\n",
    "import pandas as pd\n",
    "import matplotlib.pyplot as plt\n",
    "\n",
    "\n",
    "total_gdp = pd.read_csv(\"total_gdp_us_inflation_adjusted.csv\")\n",
    "total_gdp = total_gdp.set_index('country')\n",
    "\n",
    "gdp_percap = pd.read_csv(\"gdppercapita_us_inflation_adjusted.csv\")\n",
    "gdp_percap = gdp_percap.set_index('country')\n",
    "gini = pd.read_csv(\"gini.csv\")\n",
    "gini = gini.set_index('country')"
   ]
  },
  {
   "cell_type": "markdown",
   "id": "063ceac0",
   "metadata": {},
   "source": [
    "Convert values in each df from string to float, parsing special characters as needed. E.g., '400B' is 400.0e9."
   ]
  },
  {
   "cell_type": "code",
   "execution_count": 3,
   "id": "250ebce4",
   "metadata": {},
   "outputs": [
    {
     "name": "stderr",
     "output_type": "stream",
     "text": [
      "C:\\Users\\ctcas\\AppData\\Local\\Temp\\ipykernel_5352\\744080966.py:29: FutureWarning: ChainedAssignmentError: behaviour will change in pandas 3.0!\n",
      "You are setting values through chained assignment. Currently this works in certain cases, but when using Copy-on-Write (which will become the default behaviour in pandas 3.0) this will never work to update the original DataFrame or Series, because the intermediate object on which we are setting values will behave as a copy.\n",
      "A typical example is when you are setting values in a column of a DataFrame, like:\n",
      "\n",
      "df[\"col\"][row_indexer] = value\n",
      "\n",
      "Use `df.loc[row_indexer, \"col\"] = values` instead, to perform the assignment in a single step and ensure this keeps updating the original `df`.\n",
      "\n",
      "See the caveats in the documentation: https://pandas.pydata.org/pandas-docs/stable/user_guide/indexing.html#returning-a-view-versus-a-copy\n",
      "\n",
      "  gdp_percap_copy.loc[country][year] = float(val[:-1]) * 1e3\n",
      "C:\\Users\\ctcas\\AppData\\Local\\Temp\\ipykernel_5352\\744080966.py:37: FutureWarning: ChainedAssignmentError: behaviour will change in pandas 3.0!\n",
      "You are setting values through chained assignment. Currently this works in certain cases, but when using Copy-on-Write (which will become the default behaviour in pandas 3.0) this will never work to update the original DataFrame or Series, because the intermediate object on which we are setting values will behave as a copy.\n",
      "A typical example is when you are setting values in a column of a DataFrame, like:\n",
      "\n",
      "df[\"col\"][row_indexer] = value\n",
      "\n",
      "Use `df.loc[row_indexer, \"col\"] = values` instead, to perform the assignment in a single step and ensure this keeps updating the original `df`.\n",
      "\n",
      "See the caveats in the documentation: https://pandas.pydata.org/pandas-docs/stable/user_guide/indexing.html#returning-a-view-versus-a-copy\n",
      "\n",
      "  gdp_percap_copy.loc[country][year] = float(val[:-1])\n"
     ]
    }
   ],
   "source": [
    "total_gdp_copy = total_gdp.copy()\n",
    "gdp_percap_copy = gdp_percap.copy()\n",
    "    \n",
    "\n",
    "for country in total_gdp_copy.index:\n",
    "    for year in total_gdp_copy:\n",
    "        val = total_gdp_copy.loc[country][year]\n",
    "        if isinstance(val, float):\n",
    "            continue    \n",
    "        val = val.strip().upper()\n",
    "        if val.endswith('K'):\n",
    "            total_gdp_copy.loc[country,year] = float(val[:-1]) * 1e3\n",
    "        elif val.endswith('M'):\n",
    "            total_gdp_copy.loc[country,year] = float(val[:-1]) * 1e6\n",
    "        elif val.endswith('B'):\n",
    "            total_gdp_copy.loc[country,year] = float(val[:-1]) * 1e9\n",
    "        elif val.endswith('TR'):\n",
    "            total_gdp_copy.loc[country,year] = float(val[:-2]) * 1e12\n",
    "        else:\n",
    "            total_gdp_copy.loc[country,year] = float(val[:-1])\n",
    "\n",
    "for country in gdp_percap_copy.index:\n",
    "    for year in gdp_percap_copy:\n",
    "        val = gdp_percap_copy.loc[country][year]\n",
    "        if isinstance(val, float):\n",
    "            continue    \n",
    "        val = val.strip().upper()\n",
    "        if val.endswith('K'):\n",
    "            gdp_percap_copy.loc[country][year] = float(val[:-1]) * 1e3\n",
    "        elif val.endswith('M'):\n",
    "            gdp_percap_copy.loc[country][year] = float(val[:-1]) * 1e6\n",
    "        elif val.endswith('B'):\n",
    "            gdp_percap_copy.loc[country][year] = float(val[:-1]) * 1e9\n",
    "        elif val.endswith('TR'):\n",
    "            gdp_percap_copy.loc[country][year] = float(val[:-2]) * 1e12\n",
    "        else:\n",
    "            gdp_percap_copy.loc[country][year] = float(val[:-1])\n",
    "del country\n",
    "del year\n",
    "del val\n",
    "\n"
   ]
  },
  {
   "cell_type": "markdown",
   "id": "0e1d0705",
   "metadata": {},
   "source": [
    "Raw data loaded in as pandas dataframes. Now need to merge across a new axis called 'Metric'. Outer index is 'Metric', inner index is 'Country'. Use inner join to only include years common to all dataframes."
   ]
  },
  {
   "cell_type": "code",
   "execution_count": 4,
   "id": "aeff8530",
   "metadata": {},
   "outputs": [],
   "source": [
    "mask_total_gdp     = total_gdp_copy.index.isin(gdp_percap_copy.index) & total_gdp_copy.index.isin(gini.index)\n",
    "mask_gdp_percap    = gdp_percap_copy.index.isin(total_gdp_copy.index) & gdp_percap_copy.index.isin(gini.index)\n",
    "mask_gini          = gini.index.isin(total_gdp_copy.index) & gini.index.isin(gdp_percap_copy.index)\n",
    "\n",
    "total_gdp_filtered     = total_gdp_copy[mask_total_gdp]\n",
    "gdp_percap_filtered    = gdp_percap_copy[mask_gdp_percap]\n",
    "gini_filtered          = gini[mask_gini]"
   ]
  },
  {
   "cell_type": "code",
   "execution_count": 5,
   "id": "40b93336",
   "metadata": {},
   "outputs": [],
   "source": [
    "combined_data = pd.concat([total_gdp_filtered, gdp_percap_filtered, gini_filtered], axis=0, keys=['Total GDP', 'GDP Per Capita', 'Gini Coeff'], join='inner')\n",
    "combined_data.index.names = ['Metric', 'Country']\n",
    "# new_gini = combined_data.loc['Gini Coeff']\n",
    "# Canada = combined_data.xs('Canada', level='Country')\n",
    "# Canada_GDP_2023 = combined_data.xs('Total GDP', level='Metric').loc['Canada', '2023']\n",
    "# combined_data.shape\n",
    "# totalGDP_Gini_diff = total_gdp_copy.index.difference(gini.index)\n",
    "# Gini_totalGDP_diff = gini.index.difference(total_gdp.index)\n",
    "# GDPpercap_Gini_diff = gdp_percap_copy.index.difference(gini.index)\n",
    "\n",
    "# all_rejected_countries = list(totalGDP_Gini_diff) + list(Gini_totalGDP_diff)\n",
    "# print(all_rejected_countries)\n",
    "del mask_total_gdp\n",
    "del mask_gdp_percap\n",
    "del mask_gini\n",
    "\n",
    "del total_gdp_filtered\n",
    "del gdp_percap_filtered\n",
    "del gini_filtered       \n"
   ]
  },
  {
   "cell_type": "code",
   "execution_count": 6,
   "id": "813ca199",
   "metadata": {},
   "outputs": [],
   "source": [
    "# Canada = combined_data.xs('Canada', level='Country')\n",
    "# Canada_GDP_2023 = combined_data.xs('Total GDP', level='Metric').loc['Canada', '2023']"
   ]
  },
  {
   "cell_type": "markdown",
   "id": "ded57a0b",
   "metadata": {},
   "source": [
    "Now, remove rows (countries) that do not meet the threshold for sufficient valid data. For now, lets say we need a minimum of half of the years having a value."
   ]
  },
  {
   "cell_type": "code",
   "execution_count": 7,
   "id": "e707680a",
   "metadata": {},
   "outputs": [
    {
     "data": {
      "text/plain": [
       "<bound method DataFrame.sort_index of                          1960  1961  1962  1963  1964  1965  1966  1967  1968  \\\n",
       "Metric     Country                                                              \n",
       "Total GDP  Afghanistan    NaN   NaN   NaN   NaN   NaN   NaN   NaN   NaN   NaN   \n",
       "           Angola         NaN   NaN   NaN   NaN   NaN   NaN   NaN   NaN   NaN   \n",
       "           Albania        NaN   NaN   NaN   NaN   NaN   NaN   NaN   NaN   NaN   \n",
       "           Andorra        NaN   NaN   NaN   NaN   NaN   NaN   NaN   NaN   NaN   \n",
       "           UAE            NaN   NaN   NaN   NaN   NaN   NaN   NaN   NaN   NaN   \n",
       "...                       ...   ...   ...   ...   ...   ...   ...   ...   ...   \n",
       "Gini Coeff Samoa         40.7  40.7  40.7  40.7  40.7  40.7  40.7  40.7  40.7   \n",
       "           Yemen         37.3  37.3  37.3  37.3  37.3  37.3  37.3  37.3  37.3   \n",
       "           South Africa  66.0  66.9  67.5  67.9  68.0  68.1  68.2  68.4  68.5   \n",
       "           Zambia        64.3  65.0  65.5  65.9  66.1  66.3  66.3  66.4  66.4   \n",
       "           Zimbabwe      38.9  39.3  39.7  39.9  40.1  40.2  40.3  40.3  40.2   \n",
       "\n",
       "                         1969  ...            2014            2015  \\\n",
       "Metric     Country             ...                                   \n",
       "Total GDP  Afghanistan    NaN  ...   18900000000.0   19100000000.0   \n",
       "           Angola         NaN  ...   89700000000.0   90500000000.0   \n",
       "           Albania        NaN  ...   11100000000.0   11400000000.0   \n",
       "           Andorra        NaN  ...    2750000000.0    2790000000.0   \n",
       "           UAE            NaN  ...  347000000000.0  370000000000.0   \n",
       "...                       ...  ...             ...             ...   \n",
       "Gini Coeff Samoa         40.7  ...            38.7            38.7   \n",
       "           Yemen         37.2  ...            36.7            36.7   \n",
       "           South Africa  68.6  ...            63.0            62.7   \n",
       "           Zambia        66.5  ...            56.8            57.1   \n",
       "           Zimbabwe      40.2  ...            43.7            43.9   \n",
       "\n",
       "                                   2016            2017            2018  \\\n",
       "Metric     Country                                                        \n",
       "Total GDP  Afghanistan    19600000000.0   20100000000.0   20300000000.0   \n",
       "           Angola         88200000000.0   88000000000.0   86900000000.0   \n",
       "           Albania        11800000000.0   12200000000.0   12700000000.0   \n",
       "           Andorra         2890000000.0    2900000000.0    2950000000.0   \n",
       "           UAE           391000000000.0  394000000000.0  399000000000.0   \n",
       "...                                 ...             ...             ...   \n",
       "Gini Coeff Samoa                   38.7            38.7            38.7   \n",
       "           Yemen                   36.7            36.7            36.7   \n",
       "           South Africa            63.0            63.3            63.3   \n",
       "           Zambia                  57.1            57.1            57.1   \n",
       "           Zimbabwe                44.1            44.3            47.2   \n",
       "\n",
       "                                   2019            2020            2021  \\\n",
       "Metric     Country                                                        \n",
       "Total GDP  Afghanistan    21100000000.0   20600000000.0   16300000000.0   \n",
       "           Angola         86300000000.0   81400000000.0   82400000000.0   \n",
       "           Albania        13000000000.0   12500000000.0   13700000000.0   \n",
       "           Andorra         3010000000.0    2670000000.0    2890000000.0   \n",
       "           UAE           403000000000.0  383000000000.0  400000000000.0   \n",
       "...                                 ...             ...             ...   \n",
       "Gini Coeff Samoa                   38.7            38.7            38.7   \n",
       "           Yemen                   36.7            37.5            38.5   \n",
       "           South Africa            63.3            64.0            64.9   \n",
       "           Zambia                  57.1            57.9            58.9   \n",
       "           Zimbabwe                50.3            51.0            51.8   \n",
       "\n",
       "                                   2022            2023  \n",
       "Metric     Country                                       \n",
       "Total GDP  Afghanistan    15300000000.0   15700000000.0  \n",
       "           Angola         84900000000.0   85700000000.0  \n",
       "           Albania        14300000000.0   14900000000.0  \n",
       "           Andorra         3170000000.0    3250000000.0  \n",
       "           UAE           430000000000.0  446000000000.0  \n",
       "...                                 ...             ...  \n",
       "Gini Coeff Samoa                   38.7            38.7  \n",
       "           Yemen                   39.2            39.7  \n",
       "           South Africa            65.7            66.2  \n",
       "           Zambia                  59.6            60.2  \n",
       "           Zimbabwe                52.4            52.9  \n",
       "\n",
       "[579 rows x 64 columns]>"
      ]
     },
     "execution_count": 7,
     "metadata": {},
     "output_type": "execute_result"
    }
   ],
   "source": [
    "combined_data_copy = combined_data.copy()\n",
    "combined_data_copy.sort_index\n",
    "\n",
    "\n",
    "\n"
   ]
  },
  {
   "cell_type": "code",
   "execution_count": 8,
   "id": "8b093033",
   "metadata": {},
   "outputs": [],
   "source": [
    "years_list = combined_data_copy.columns.tolist()\n",
    "valid_country_list = combined_data.index.get_level_values('Country').unique().tolist()"
   ]
  },
  {
   "cell_type": "code",
   "execution_count": 9,
   "id": "4b973255",
   "metadata": {},
   "outputs": [
    {
     "name": "stdout",
     "output_type": "stream",
     "text": [
      "Dropping Afghanistan  -  40 missing values in Total GDP.\n",
      "40 missing values in GDP Per Capita.\n",
      "Dropping Djibouti  -  53 missing values in Total GDP.\n",
      "53 missing values in GDP Per Capita.\n",
      "Dropping Eritrea  -  44 missing values in Total GDP.\n",
      "44 missing values in GDP Per Capita.\n",
      "Dropping Liechtenstein  -  63 missing values in Total GDP.\n",
      "63 missing values in GDP Per Capita.\n",
      "Dropping Montenegro  -  37 missing values in Total GDP.\n",
      "37 missing values in GDP Per Capita.\n",
      "Dropping Palestine  -  34 missing values in Total GDP.\n",
      "34 missing values in GDP Per Capita.\n",
      "Dropping San Marino  -  38 missing values in Total GDP.\n",
      "38 missing values in GDP Per Capita.\n",
      "Dropping Serbia  -  35 missing values in Total GDP.\n",
      "35 missing values in GDP Per Capita.\n",
      "Dropping South Sudan  -  56 missing values in Total GDP.\n",
      "56 missing values in GDP Per Capita.\n",
      "Dropping Yemen  -  35 missing values in Total GDP.\n",
      "30 missing values in GDP Per Capita.\n"
     ]
    }
   ],
   "source": [
    "# Canada = combined_data.xs('Canada', level='Country').drop()\n",
    "# canada_gdp = pd.isna(Canada.loc['Total GDP'].values).sum()\n",
    "# UAE = combined_data.xs('UAE', level='Country')\n",
    "# UAE_gdp = pd.isna(UAE.loc['Total GDP'].values).sum()\n",
    "\n",
    "for country in valid_country_list:\n",
    "    country_slice = combined_data.xs(country, level='Country')\n",
    "    country_gdp_nan_sum = pd.isna(country_slice.loc['Total GDP'].values).sum()\n",
    "    country_gdp_percap_nan_sum = pd.isna(country_slice.loc['GDP Per Capita'].values).sum()\n",
    "    if (country_gdp_nan_sum > len(years_list)/2) | (country_gdp_percap_nan_sum > len(years_list)/2):\n",
    "        combined_data_copy = combined_data_copy.drop(country, level='Country')\n",
    "        print(\"Dropping\", country, \" - \", country_gdp_nan_sum, \"missing values in Total GDP.\")\n",
    "        print(country_gdp_percap_nan_sum, \"missing values in GDP Per Capita.\")"
   ]
  },
  {
   "cell_type": "code",
   "execution_count": 10,
   "id": "54879b62",
   "metadata": {},
   "outputs": [
    {
     "data": {
      "text/plain": [
       "True"
      ]
     },
     "execution_count": 10,
     "metadata": {},
     "output_type": "execute_result"
    }
   ],
   "source": [
    "valid_country_list = combined_data_copy.index.get_level_values('Country').unique().tolist()\n",
    "combined_data_copy.index.names[0] == 'Metric'"
   ]
  },
  {
   "cell_type": "markdown",
   "id": "82048642",
   "metadata": {},
   "source": [
    "Tasks going forward:\n",
    "- User Entry (COMPLETED)\n",
    "    - Prompt user to enter some number of countries, and a start year and end year.\n",
    "    - Returns a tuple of ([list of Strings as country names], [list of start year, end year]).\n",
    "\n",
    "- Dataframe cleaning: (COMPLETED)\n",
    "    Remove countries that have less that length/2 valid numbers.\n",
    "\n",
    "- Plotting:\n",
    "    - Plot for each metric containing:\n",
    "        - all contries and global average for time slice. \n",
    "\n",
    "- Presentation:\n",
    "    - Summary of problem statement\n",
    "    - Summary of data processing steps taken\n",
    "    - Figures\n",
    "    - Formatting into .pptx\n"
   ]
  },
  {
   "cell_type": "code",
   "execution_count": 11,
   "id": "b5fa2d88",
   "metadata": {},
   "outputs": [
    {
     "name": "stdout",
     "output_type": "stream",
     "text": [
      "(549, 64)\n",
      "(183, 64)\n"
     ]
    }
   ],
   "source": [
    "# calculate gini dollars ( defined as GDP Per Capita * (1 - gini) )\n",
    "#combined_data_copy\n",
    "new_df = combined_data_copy.loc['GDP Per Capita'] * (1 - combined_data_copy.loc['Gini Coeff']/100)\n",
    "new_df.round()\n",
    "new_df.index = pd.MultiIndex.from_product([['Gini Dollars'], new_df.index], names=['Metric', 'Country'])\n",
    "\n",
    "print(combined_data_copy.shape)\n",
    "print(new_df.shape)\n",
    "new_combined_data_copy = pd.concat([combined_data_copy, new_df])"
   ]
  },
  {
   "cell_type": "code",
   "execution_count": null,
   "id": "894654e5",
   "metadata": {},
   "outputs": [],
   "source": [
    "economic_weightclass = pd.cut(combined_data_copy.loc['Total GDP',:]['2023'], bins=[0, 1e11, 1e12, 1e13, 1e14],labels=['Lightweight','Middleweight', 'Heavyweight', 'Superpower'])\n",
    "income_class = pd.cut(combined_data_copy.loc['GDP Per Capita',:]['2023'], bins=[0, 1135, 4465, 13845, 40000, 300000],labels=['Low Income','Lower Middle Income', 'Upper Middle Income', 'High Income', 'Ultra High Income'])\n",
    "equality_class = pd.cut(combined_data_copy.loc['Gini Coeff',:]['2023'], bins=[0, 30, 35, 40, 45, 50, 100],labels=['Very Low Inequality','Low Inequality', 'Low-Moderate Inequality', 'Moderate Inequality', 'Moderate-High Inequality', 'High Inequality'])\n",
    "livability_class = pd.cut(new_combined_data_copy.loc['Gini Dollars',:]['2023'], bins=[0, 1135, 4465, 13845, 30000, 300000],labels=['Low Livability','Low-Moderate Livability', 'Moderate Livability', 'Moderate-High Livability', 'High Livability'])\n",
    "\n",
    "#classification = pd.concat([economic_weightclass, income_class, equality_class, livability_class])\n",
    "classification = pd.concat([economic_weightclass,economic_weightclass,economic_weightclass,economic_weightclass]) #ADDED BY CONNER\n"
   ]
  },
  {
   "cell_type": "code",
   "execution_count": null,
   "id": "c294aa77",
   "metadata": {},
   "outputs": [
    {
     "name": "stderr",
     "output_type": "stream",
     "text": [
      "C:\\Users\\ctcas\\AppData\\Local\\Temp\\ipykernel_5352\\783039096.py:17: FutureWarning: The default value of observed=False is deprecated and will change to observed=True in a future version of pandas. Specify observed=False to silence this warning and retain the current behavior\n",
      "  ndf.pivot_table('2023',index='Metric',columns='Classification')\n"
     ]
    },
    {
     "data": {
      "application/vnd.microsoft.datawrangler.viewer.v0+json": {
       "columns": [
        {
         "name": "Metric",
         "rawType": "object",
         "type": "string"
        },
        {
         "name": "Lightweight",
         "rawType": "object",
         "type": "unknown"
        },
        {
         "name": "Middleweight",
         "rawType": "object",
         "type": "unknown"
        },
        {
         "name": "Heavyweight",
         "rawType": "object",
         "type": "unknown"
        },
        {
         "name": "Superpower",
         "rawType": "object",
         "type": "unknown"
        }
       ],
       "ref": "06c30696-09c8-479e-98ad-7226e7331cae",
       "rows": [
        [
         "GDP Per Capita",
         "8015.470085470086",
         "24412.911111111112",
         "27164.6",
         "39050.0"
        ],
        [
         "Gini Coeff",
         "41.174358974358995",
         "37.295555555555566",
         "40.06666666666667",
         "42.5"
        ],
        [
         "Gini Dollars",
         "5130.431683760684",
         "16029.085199999992",
         "17158.87026666667",
         "21540.850000000002"
        ],
        [
         "Total GDP",
         "26467930769.23077",
         "362488888888.8889",
         "2215333333333.3335",
         "19650000000000.0"
        ]
       ],
       "shape": {
        "columns": 4,
        "rows": 4
       }
      },
      "text/html": [
       "<div>\n",
       "<style scoped>\n",
       "    .dataframe tbody tr th:only-of-type {\n",
       "        vertical-align: middle;\n",
       "    }\n",
       "\n",
       "    .dataframe tbody tr th {\n",
       "        vertical-align: top;\n",
       "    }\n",
       "\n",
       "    .dataframe thead th {\n",
       "        text-align: right;\n",
       "    }\n",
       "</style>\n",
       "<table border=\"1\" class=\"dataframe\">\n",
       "  <thead>\n",
       "    <tr style=\"text-align: right;\">\n",
       "      <th>Classification</th>\n",
       "      <th>Lightweight</th>\n",
       "      <th>Middleweight</th>\n",
       "      <th>Heavyweight</th>\n",
       "      <th>Superpower</th>\n",
       "    </tr>\n",
       "    <tr>\n",
       "      <th>Metric</th>\n",
       "      <th></th>\n",
       "      <th></th>\n",
       "      <th></th>\n",
       "      <th></th>\n",
       "    </tr>\n",
       "  </thead>\n",
       "  <tbody>\n",
       "    <tr>\n",
       "      <th>GDP Per Capita</th>\n",
       "      <td>8015.470085</td>\n",
       "      <td>24412.911111</td>\n",
       "      <td>27164.6</td>\n",
       "      <td>39050.0</td>\n",
       "    </tr>\n",
       "    <tr>\n",
       "      <th>Gini Coeff</th>\n",
       "      <td>41.174359</td>\n",
       "      <td>37.295556</td>\n",
       "      <td>40.066667</td>\n",
       "      <td>42.5</td>\n",
       "    </tr>\n",
       "    <tr>\n",
       "      <th>Gini Dollars</th>\n",
       "      <td>5130.431684</td>\n",
       "      <td>16029.0852</td>\n",
       "      <td>17158.870267</td>\n",
       "      <td>21540.85</td>\n",
       "    </tr>\n",
       "    <tr>\n",
       "      <th>Total GDP</th>\n",
       "      <td>26467930769.23077</td>\n",
       "      <td>362488888888.888916</td>\n",
       "      <td>2215333333333.333496</td>\n",
       "      <td>19650000000000.0</td>\n",
       "    </tr>\n",
       "  </tbody>\n",
       "</table>\n",
       "</div>"
      ],
      "text/plain": [
       "Classification        Lightweight         Middleweight           Heavyweight  \\\n",
       "Metric                                                                         \n",
       "GDP Per Capita        8015.470085         24412.911111               27164.6   \n",
       "Gini Coeff              41.174359            37.295556             40.066667   \n",
       "Gini Dollars          5130.431684           16029.0852          17158.870267   \n",
       "Total GDP       26467930769.23077  362488888888.888916  2215333333333.333496   \n",
       "\n",
       "Classification        Superpower  \n",
       "Metric                            \n",
       "GDP Per Capita           39050.0  \n",
       "Gini Coeff                  42.5  \n",
       "Gini Dollars            21540.85  \n",
       "Total GDP       19650000000000.0  "
      ]
     },
     "execution_count": 33,
     "metadata": {},
     "output_type": "execute_result"
    }
   ],
   "source": [
    "metrics = new_combined_data_copy.index.get_level_values('Metric')\n",
    "countries = new_combined_data_copy.index.get_level_values('Country')\n",
    "\n",
    "# Use the classification series you created\n",
    "new_index = pd.MultiIndex.from_arrays([\n",
    "    metrics,\n",
    "    classification.values,  # classification per (Metric, Country)\n",
    "    countries\n",
    "], names=['Metric', 'Classification', 'Country'])\n",
    "\n",
    "# Assign to the DataFrame\n",
    "new_combined_data_copy.index = new_index\n",
    "\n",
    "ndf = new_combined_data_copy\n",
    "\n",
    "ndf.pivot_table('2023',index='Metric',columns='Classification') #PIVOT TABLE BASED ON ECONOMIC WEIGHTCLASS\n"
   ]
  }
 ],
 "metadata": {
  "kernelspec": {
   "display_name": "base",
   "language": "python",
   "name": "python3"
  },
  "language_info": {
   "codemirror_mode": {
    "name": "ipython",
    "version": 3
   },
   "file_extension": ".py",
   "mimetype": "text/x-python",
   "name": "python",
   "nbconvert_exporter": "python",
   "pygments_lexer": "ipython3",
   "version": "3.12.7"
  }
 },
 "nbformat": 4,
 "nbformat_minor": 5
}
