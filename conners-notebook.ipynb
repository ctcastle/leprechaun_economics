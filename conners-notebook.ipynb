{
 "cells": [
  {
   "cell_type": "code",
   "execution_count": null,
   "id": "24efd6a9",
   "metadata": {},
   "outputs": [],
   "source": []
  },
  {
   "cell_type": "code",
   "execution_count": null,
   "id": "9b5ff9f1",
   "metadata": {},
   "outputs": [
    {
     "name": "stdout",
     "output_type": "stream",
     "text": [
      "rows: 621 cols: 251\n"
     ]
    }
   ],
   "source": [
    "import pandas as pd \n",
    "import numpy as np \n",
    "\n",
    "def convert(val):\n",
    "    val = str(val)\n",
    "    if \"k\" in val:\n",
    "        val = val.replace(\"k\",\"\")\n",
    "        val = float(val)*1_000\n",
    "    elif \"M\" in val:\n",
    "        val = val.replace(\"M\",\"\")\n",
    "        val = float(val)*1_000_000\n",
    "    elif \"B\" in val:\n",
    "        val = val.replace(\"B\",\"\")\n",
    "        val = float(val)*1_000_000_000\n",
    "    elif \"TR\" in val:\n",
    "        val = val.replace(\"TR\",\"\")\n",
    "        val = float(val)*1e12\n",
    "    else:\n",
    "        float(val)\n",
    "    return val\n",
    "\n",
    "# Import data \n",
    "gdp_percap = pd.read_csv(\"gdppercapita_us_inflation_adjusted.csv\")\n",
    "total_gdp = pd.read_csv(\"total_gdp_us_inflation_adjusted.csv\")\n",
    "gini = pd.read_csv(\"gini.csv\")\n",
    "\n",
    "# Set index to country \n",
    "gdp_percap = gdp_percap.set_index('country')\n",
    "total_gdp = total_gdp.set_index('country')\n",
    "gini = gini.set_index('country')\n",
    "\n",
    "# Convert any string to a number - data prep - DONE \n",
    "gdp_percap_copy = gdp_percap.map(lambda x:convert(x),na_action = 'ignore')\n",
    "total_gdp_copy = total_gdp.map(lambda x:convert(x),na_action = 'ignore')\n",
    "\n",
    "\n",
    "# Merge the data together into hierarchical index - concat - DONE \n",
    "# Only outer to ensure data shares values \n",
    "# Make sure we have common countries to start \n",
    "\n",
    "combined_data = pd.concat([total_gdp_copy, gdp_percap_copy, gini], axis=0,join='inner', keys=['Total GDP', 'GDP Per Capita', 'Gini Coeff'])\n",
    "combined_data.index.names = ['Metric', 'Country']\n",
    "#combined_data_c = combined_data[combined_data.index.isin(common_countries)]\n",
    "rows, columns = combined_data.shape\n",
    "print(f'rows: {rows} cols: {columns}')\n",
    "\n",
    "\n",
    "\n"
   ]
  },
  {
   "cell_type": "code",
   "execution_count": 51,
   "id": "d13c98ab",
   "metadata": {},
   "outputs": [
    {
     "data": {
      "text/plain": [
       "23"
      ]
     },
     "execution_count": 51,
     "metadata": {},
     "output_type": "execute_result"
    }
   ],
   "source": [
    "# Check for any country with more than X NANs \n",
    "#Canada = combined_data.xs('Canada', level='Country')\n",
    "#Canada_GDP_2023 = combined_data.xs('Total GDP', level='Metric').loc['Canada', '2023']\n",
    "#combined_data.isnull().sum()\n",
    "#combined_data.groupby(['Metric','Country']).count()\n",
    "#combined_data.loc[[]].index\n",
    "#common_countries = list(gini.index) & list(total_gdp.index & gdp_percap.index \n",
    "#rows, columns = combined_data_c.shape\n",
    "#print(f'rows: {rows} cols: {columns}')\n",
    "idx = pd.IndexSlice\n",
    "f = gini[~gini.index.isin(gdp_percap.index) ].index.size\n",
    "g = gdp_percap[~gdp_percap.index.isin(gini.index) ].index.size\n",
    "f+g\n",
    "#gdp_percap[~gdp_percap.index.isin(total_gdp.index) ].index\n",
    "#gini.drop(gini.index.isin(total_gdp_copy.index))\n",
    "# Drop or handle \n",
    "# Plot every country per year?? \n",
    "# Plot continent blocks?? \n",
    "# Look for any outliers \n",
    "# Explain those \n",
    "# Plot average, median, etc. global GDP per year?? "
   ]
  }
 ],
 "metadata": {
  "kernelspec": {
   "display_name": "base",
   "language": "python",
   "name": "python3"
  },
  "language_info": {
   "codemirror_mode": {
    "name": "ipython",
    "version": 3
   },
   "file_extension": ".py",
   "mimetype": "text/x-python",
   "name": "python",
   "nbconvert_exporter": "python",
   "pygments_lexer": "ipython3",
   "version": "3.12.7"
  }
 },
 "nbformat": 4,
 "nbformat_minor": 5
}
