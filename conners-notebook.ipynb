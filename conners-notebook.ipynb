{
 "cells": [
  {
   "cell_type": "code",
   "execution_count": null,
   "id": "24efd6a9",
   "metadata": {},
   "outputs": [],
   "source": []
  },
  {
   "cell_type": "code",
   "execution_count": 2,
   "id": "9b5ff9f1",
   "metadata": {},
   "outputs": [
    {
     "name": "stdout",
     "output_type": "stream",
     "text": [
      "rows: 621 cols: 64\n"
     ]
    }
   ],
   "source": [
    "import pandas as pd \n",
    "import numpy as np \n",
    "\n",
    "def convert(val):\n",
    "    val = str(val)\n",
    "    if \"k\" in val:\n",
    "        val = val.replace(\"k\",\"\")\n",
    "        val = float(val)*1_000\n",
    "    elif \"M\" in val:\n",
    "        val = val.replace(\"M\",\"\")\n",
    "        val = float(val)*1_000_000\n",
    "    elif \"B\" in val:\n",
    "        val = val.replace(\"B\",\"\")\n",
    "        val = float(val)*1_000_000_000\n",
    "    elif \"TR\" in val:\n",
    "        val = val.replace(\"TR\",\"\")\n",
    "        val = float(val)*1e12\n",
    "    else:\n",
    "        float(val)\n",
    "    return val\n",
    "\n",
    "# Import data \n",
    "gdp_percap = pd.read_csv(\"gdppercapita_us_inflation_adjusted.csv\")\n",
    "total_gdp = pd.read_csv(\"total_gdp_us_inflation_adjusted.csv\")\n",
    "gini = pd.read_csv(\"gini.csv\")\n",
    "\n",
    "# Set index to country \n",
    "gdp_percap = gdp_percap.set_index('country')\n",
    "total_gdp = total_gdp.set_index('country')\n",
    "gini = gini.set_index('country')\n",
    "\n",
    "# Convert any string to a number - data prep - DONE \n",
    "gdp_percap_copy = gdp_percap.map(lambda x:convert(x),na_action = 'ignore')\n",
    "total_gdp_copy = total_gdp.map(lambda x:convert(x),na_action = 'ignore')\n",
    "\n",
    "\n",
    "# Merge the data together into hierarchical index - concat - DONE \n",
    "# Only outer to ensure data shares values \n",
    "# Make sure we have common countries to start \n",
    "\n",
    "combined_data = pd.concat([total_gdp_copy, gdp_percap_copy, gini], axis=0,join='inner', keys=['Total GDP', 'GDP Per Capita', 'Gini Coeff'])\n",
    "combined_data.index.names = ['Metric', 'Country']\n",
    "\n",
    "common_countries = list(set(gini.index.values) & set(total_gdp.index.values) & set(gdp_percap.index.values))\n",
    "combined_data_fixed = combined_data[combined_data.index.isin(common_countries,level='Country')]\n",
    "\n",
    "#gini[~gini.index.isin(gdp_percap.index) ].index\n",
    "#gdp_percap[~gdp_percap.index.isin(gini.index) ].index\n",
    "\n",
    "rows, columns = combined_data.shape\n",
    "print(f'rows: {rows} cols: {columns}')\n",
    "\n",
    "\n",
    "\n"
   ]
  },
  {
   "cell_type": "code",
   "execution_count": 38,
   "id": "d13c98ab",
   "metadata": {},
   "outputs": [
    {
     "data": {
      "application/vnd.microsoft.datawrangler.viewer.v0+json": {
       "columns": [
        {
         "name": "('Metric', 'Country')",
         "rawType": "object",
         "type": "unknown"
        },
        {
         "name": "1960",
         "rawType": "object",
         "type": "unknown"
        },
        {
         "name": "1961",
         "rawType": "object",
         "type": "unknown"
        },
        {
         "name": "1962",
         "rawType": "object",
         "type": "unknown"
        },
        {
         "name": "1963",
         "rawType": "object",
         "type": "unknown"
        },
        {
         "name": "1964",
         "rawType": "object",
         "type": "unknown"
        },
        {
         "name": "1965",
         "rawType": "object",
         "type": "unknown"
        },
        {
         "name": "1966",
         "rawType": "object",
         "type": "unknown"
        },
        {
         "name": "1967",
         "rawType": "object",
         "type": "unknown"
        },
        {
         "name": "1968",
         "rawType": "object",
         "type": "unknown"
        },
        {
         "name": "1969",
         "rawType": "object",
         "type": "unknown"
        },
        {
         "name": "1970",
         "rawType": "object",
         "type": "unknown"
        },
        {
         "name": "1971",
         "rawType": "object",
         "type": "unknown"
        },
        {
         "name": "1972",
         "rawType": "object",
         "type": "unknown"
        },
        {
         "name": "1973",
         "rawType": "object",
         "type": "unknown"
        },
        {
         "name": "1974",
         "rawType": "object",
         "type": "unknown"
        },
        {
         "name": "1975",
         "rawType": "object",
         "type": "unknown"
        },
        {
         "name": "1976",
         "rawType": "object",
         "type": "unknown"
        },
        {
         "name": "1977",
         "rawType": "object",
         "type": "unknown"
        },
        {
         "name": "1978",
         "rawType": "object",
         "type": "unknown"
        },
        {
         "name": "1979",
         "rawType": "object",
         "type": "unknown"
        },
        {
         "name": "1980",
         "rawType": "object",
         "type": "unknown"
        },
        {
         "name": "1981",
         "rawType": "object",
         "type": "unknown"
        },
        {
         "name": "1982",
         "rawType": "object",
         "type": "unknown"
        },
        {
         "name": "1983",
         "rawType": "object",
         "type": "unknown"
        },
        {
         "name": "1984",
         "rawType": "object",
         "type": "unknown"
        },
        {
         "name": "1985",
         "rawType": "object",
         "type": "unknown"
        },
        {
         "name": "1986",
         "rawType": "object",
         "type": "unknown"
        },
        {
         "name": "1987",
         "rawType": "object",
         "type": "unknown"
        },
        {
         "name": "1988",
         "rawType": "object",
         "type": "unknown"
        },
        {
         "name": "1989",
         "rawType": "object",
         "type": "unknown"
        },
        {
         "name": "1990",
         "rawType": "object",
         "type": "unknown"
        },
        {
         "name": "1991",
         "rawType": "object",
         "type": "unknown"
        },
        {
         "name": "1992",
         "rawType": "object",
         "type": "unknown"
        },
        {
         "name": "1993",
         "rawType": "object",
         "type": "unknown"
        },
        {
         "name": "1994",
         "rawType": "object",
         "type": "unknown"
        },
        {
         "name": "1995",
         "rawType": "object",
         "type": "unknown"
        },
        {
         "name": "1996",
         "rawType": "object",
         "type": "unknown"
        },
        {
         "name": "1997",
         "rawType": "object",
         "type": "unknown"
        },
        {
         "name": "1998",
         "rawType": "object",
         "type": "unknown"
        },
        {
         "name": "1999",
         "rawType": "object",
         "type": "unknown"
        },
        {
         "name": "2000",
         "rawType": "object",
         "type": "unknown"
        },
        {
         "name": "2001",
         "rawType": "object",
         "type": "unknown"
        },
        {
         "name": "2002",
         "rawType": "object",
         "type": "unknown"
        },
        {
         "name": "2003",
         "rawType": "object",
         "type": "unknown"
        },
        {
         "name": "2004",
         "rawType": "object",
         "type": "unknown"
        },
        {
         "name": "2005",
         "rawType": "object",
         "type": "unknown"
        },
        {
         "name": "2006",
         "rawType": "object",
         "type": "unknown"
        },
        {
         "name": "2007",
         "rawType": "object",
         "type": "unknown"
        },
        {
         "name": "2008",
         "rawType": "object",
         "type": "unknown"
        },
        {
         "name": "2009",
         "rawType": "object",
         "type": "unknown"
        },
        {
         "name": "2010",
         "rawType": "object",
         "type": "unknown"
        },
        {
         "name": "2011",
         "rawType": "object",
         "type": "unknown"
        },
        {
         "name": "2012",
         "rawType": "object",
         "type": "unknown"
        },
        {
         "name": "2013",
         "rawType": "object",
         "type": "unknown"
        },
        {
         "name": "2014",
         "rawType": "object",
         "type": "unknown"
        },
        {
         "name": "2015",
         "rawType": "object",
         "type": "unknown"
        },
        {
         "name": "2016",
         "rawType": "object",
         "type": "unknown"
        },
        {
         "name": "2017",
         "rawType": "object",
         "type": "unknown"
        },
        {
         "name": "2018",
         "rawType": "object",
         "type": "unknown"
        },
        {
         "name": "2019",
         "rawType": "object",
         "type": "unknown"
        },
        {
         "name": "2020",
         "rawType": "object",
         "type": "unknown"
        },
        {
         "name": "2021",
         "rawType": "object",
         "type": "unknown"
        },
        {
         "name": "2022",
         "rawType": "object",
         "type": "unknown"
        },
        {
         "name": "2023",
         "rawType": "object",
         "type": "unknown"
        }
       ],
       "ref": "b390700d-0f82-42f4-af0b-b7331b908e92",
       "rows": [
        [
         "('Total GDP', 'USA')",
         "3430000000000.0",
         "3510000000000.0",
         "3720000000000.0",
         "3890000000000.0",
         "4110000000000.0005",
         "4380000000000.0",
         "4660000000000.0",
         "4780000000000.0",
         "5010000000000.0",
         "5160000000000.0",
         "5170000000000.0",
         "5340000000000.0",
         "5620000000000.0",
         "5940000000000.0",
         "5910000000000.0",
         "5900000000000.0",
         "6220000000000.0",
         "6500000000000.0",
         "6860000000000.0",
         "7080000000000.0",
         "7060000000000.0",
         "7240000000000.0",
         "7110000000000.0",
         "7440000000000.0",
         "7980000000000.0",
         "8310000000000.001",
         "8600000000000.0",
         "8890000000000.0",
         "9260000000000.0",
         "9600000000000.0",
         "9790000000000.0",
         "9770000000000.0",
         "10100000000000.0",
         "10400000000000.0",
         "10800000000000.0",
         "11100000000000.0",
         "11500000000000.0",
         "12000000000000.0",
         "12600000000000.0",
         "13200000000000.0",
         "13700000000000.0",
         "13800000000000.0",
         "14100000000000.0",
         "14500000000000.0",
         "15000000000000.0",
         "15600000000000.0",
         "16000000000000.0",
         "16300000000000.0",
         "16300000000000.0",
         "15900000000000.0",
         "16300000000000.0",
         "16600000000000.002",
         "17000000000000.0",
         "17300000000000.0",
         "17800000000000.0",
         "18300000000000.0",
         "18600000000000.0",
         "19100000000000.0",
         "19700000000000.0",
         "20200000000000.0",
         "19700000000000.0",
         "20900000000000.0",
         "21400000000000.0",
         "22100000000000.0"
        ],
        [
         "('GDP Per Capita', 'USA')",
         "19000.0",
         "19100.0",
         "20000.0",
         "20500.0",
         "21400.0",
         "22500.0",
         "23700.0",
         "24000.0",
         "24900.0",
         "25500.0",
         "25200.0",
         "25700.0",
         "26800.0",
         "28000.0",
         "27600.0",
         "27300.0",
         "28500.0",
         "29500.0",
         "30800.0",
         "31500.0",
         "31100.0",
         "31600.0",
         "30700.0",
         "31800.0",
         "33800.0",
         "34900.0",
         "35800.0",
         "36700.0",
         "37900.0",
         "38900.0",
         "39200.0",
         "38600.0",
         "39400.0",
         "40000.0",
         "41100.0",
         "41700.0",
         "42800.0",
         "44200.0",
         "45600.0",
         "47200.0",
         "48600.0",
         "48600.0",
         "49000.0",
         "49900.0",
         "51300.0",
         "52600.0",
         "53600.0",
         "54200.0",
         "53700.0",
         "51900.0",
         "52800.0",
         "53300.0",
         "54100.0",
         "54800.0",
         "55800.0",
         "57000.0",
         "57700.0",
         "58700.0",
         "60100.0",
         "61400.0",
         "59500.0",
         "63000.0",
         "64300.0",
         "65900.0"
        ],
        [
         "('Gini Coeff', 'USA')",
         "36.7",
         "37.5",
         "36.5",
         "36.3",
         "36.3",
         "36.2",
         "35.8",
         "36.1",
         "35.0",
         "35.2",
         "35.6",
         "35.8",
         "36.1",
         "35.9",
         "35.3",
         "35.1",
         "35.0",
         "34.8",
         "34.7",
         "34.5",
         "34.9",
         "35.3",
         "35.7",
         "36.1",
         "36.5",
         "37.0",
         "37.4",
         "37.5",
         "37.6",
         "37.8",
         "37.9",
         "38.0",
         "38.4",
         "40.4",
         "40.0",
         "39.9",
         "40.3",
         "40.5",
         "40.0",
         "40.0",
         "40.1",
         "40.6",
         "40.4",
         "40.8",
         "40.3",
         "41.0",
         "41.4",
         "40.8",
         "40.8",
         "40.6",
         "40.0",
         "40.9",
         "40.9",
         "40.6",
         "41.5",
         "41.2",
         "41.1",
         "41.2",
         "41.4",
         "41.4",
         "42.6",
         "44.0",
         "45.1",
         "45.9"
        ]
       ],
       "shape": {
        "columns": 64,
        "rows": 3
       }
      },
      "text/html": [
       "<div>\n",
       "<style scoped>\n",
       "    .dataframe tbody tr th:only-of-type {\n",
       "        vertical-align: middle;\n",
       "    }\n",
       "\n",
       "    .dataframe tbody tr th {\n",
       "        vertical-align: top;\n",
       "    }\n",
       "\n",
       "    .dataframe thead th {\n",
       "        text-align: right;\n",
       "    }\n",
       "</style>\n",
       "<table border=\"1\" class=\"dataframe\">\n",
       "  <thead>\n",
       "    <tr style=\"text-align: right;\">\n",
       "      <th></th>\n",
       "      <th></th>\n",
       "      <th>1960</th>\n",
       "      <th>1961</th>\n",
       "      <th>1962</th>\n",
       "      <th>1963</th>\n",
       "      <th>1964</th>\n",
       "      <th>1965</th>\n",
       "      <th>1966</th>\n",
       "      <th>1967</th>\n",
       "      <th>1968</th>\n",
       "      <th>1969</th>\n",
       "      <th>...</th>\n",
       "      <th>2014</th>\n",
       "      <th>2015</th>\n",
       "      <th>2016</th>\n",
       "      <th>2017</th>\n",
       "      <th>2018</th>\n",
       "      <th>2019</th>\n",
       "      <th>2020</th>\n",
       "      <th>2021</th>\n",
       "      <th>2022</th>\n",
       "      <th>2023</th>\n",
       "    </tr>\n",
       "    <tr>\n",
       "      <th>Metric</th>\n",
       "      <th>Country</th>\n",
       "      <th></th>\n",
       "      <th></th>\n",
       "      <th></th>\n",
       "      <th></th>\n",
       "      <th></th>\n",
       "      <th></th>\n",
       "      <th></th>\n",
       "      <th></th>\n",
       "      <th></th>\n",
       "      <th></th>\n",
       "      <th></th>\n",
       "      <th></th>\n",
       "      <th></th>\n",
       "      <th></th>\n",
       "      <th></th>\n",
       "      <th></th>\n",
       "      <th></th>\n",
       "      <th></th>\n",
       "      <th></th>\n",
       "      <th></th>\n",
       "      <th></th>\n",
       "    </tr>\n",
       "  </thead>\n",
       "  <tbody>\n",
       "    <tr>\n",
       "      <th>Total GDP</th>\n",
       "      <th>USA</th>\n",
       "      <td>3430000000000.0</td>\n",
       "      <td>3510000000000.0</td>\n",
       "      <td>3720000000000.0</td>\n",
       "      <td>3890000000000.0</td>\n",
       "      <td>4110000000000.000488</td>\n",
       "      <td>4380000000000.0</td>\n",
       "      <td>4660000000000.0</td>\n",
       "      <td>4780000000000.0</td>\n",
       "      <td>5010000000000.0</td>\n",
       "      <td>5160000000000.0</td>\n",
       "      <td>...</td>\n",
       "      <td>17800000000000.0</td>\n",
       "      <td>18300000000000.0</td>\n",
       "      <td>18600000000000.0</td>\n",
       "      <td>19100000000000.0</td>\n",
       "      <td>19700000000000.0</td>\n",
       "      <td>20200000000000.0</td>\n",
       "      <td>19700000000000.0</td>\n",
       "      <td>20900000000000.0</td>\n",
       "      <td>21400000000000.0</td>\n",
       "      <td>22100000000000.0</td>\n",
       "    </tr>\n",
       "    <tr>\n",
       "      <th>GDP Per Capita</th>\n",
       "      <th>USA</th>\n",
       "      <td>19000.0</td>\n",
       "      <td>19100.0</td>\n",
       "      <td>20000.0</td>\n",
       "      <td>20500.0</td>\n",
       "      <td>21400.0</td>\n",
       "      <td>22500.0</td>\n",
       "      <td>23700.0</td>\n",
       "      <td>24000.0</td>\n",
       "      <td>24900.0</td>\n",
       "      <td>25500.0</td>\n",
       "      <td>...</td>\n",
       "      <td>55800.0</td>\n",
       "      <td>57000.0</td>\n",
       "      <td>57700.0</td>\n",
       "      <td>58700.0</td>\n",
       "      <td>60100.0</td>\n",
       "      <td>61400.0</td>\n",
       "      <td>59500.0</td>\n",
       "      <td>63000.0</td>\n",
       "      <td>64300.0</td>\n",
       "      <td>65900.0</td>\n",
       "    </tr>\n",
       "    <tr>\n",
       "      <th>Gini Coeff</th>\n",
       "      <th>USA</th>\n",
       "      <td>36.7</td>\n",
       "      <td>37.5</td>\n",
       "      <td>36.5</td>\n",
       "      <td>36.3</td>\n",
       "      <td>36.3</td>\n",
       "      <td>36.2</td>\n",
       "      <td>35.8</td>\n",
       "      <td>36.1</td>\n",
       "      <td>35.0</td>\n",
       "      <td>35.2</td>\n",
       "      <td>...</td>\n",
       "      <td>41.5</td>\n",
       "      <td>41.2</td>\n",
       "      <td>41.1</td>\n",
       "      <td>41.2</td>\n",
       "      <td>41.4</td>\n",
       "      <td>41.4</td>\n",
       "      <td>42.6</td>\n",
       "      <td>44.0</td>\n",
       "      <td>45.1</td>\n",
       "      <td>45.9</td>\n",
       "    </tr>\n",
       "  </tbody>\n",
       "</table>\n",
       "<p>3 rows × 64 columns</p>\n",
       "</div>"
      ],
      "text/plain": [
       "                                   1960             1961             1962  \\\n",
       "Metric         Country                                                      \n",
       "Total GDP      USA      3430000000000.0  3510000000000.0  3720000000000.0   \n",
       "GDP Per Capita USA              19000.0          19100.0          20000.0   \n",
       "Gini Coeff     USA                 36.7             37.5             36.5   \n",
       "\n",
       "                                   1963                  1964  \\\n",
       "Metric         Country                                          \n",
       "Total GDP      USA      3890000000000.0  4110000000000.000488   \n",
       "GDP Per Capita USA              20500.0               21400.0   \n",
       "Gini Coeff     USA                 36.3                  36.3   \n",
       "\n",
       "                                   1965             1966             1967  \\\n",
       "Metric         Country                                                      \n",
       "Total GDP      USA      4380000000000.0  4660000000000.0  4780000000000.0   \n",
       "GDP Per Capita USA              22500.0          23700.0          24000.0   \n",
       "Gini Coeff     USA                 36.2             35.8             36.1   \n",
       "\n",
       "                                   1968             1969  ...  \\\n",
       "Metric         Country                                    ...   \n",
       "Total GDP      USA      5010000000000.0  5160000000000.0  ...   \n",
       "GDP Per Capita USA              24900.0          25500.0  ...   \n",
       "Gini Coeff     USA                 35.0             35.2  ...   \n",
       "\n",
       "                                    2014              2015              2016  \\\n",
       "Metric         Country                                                         \n",
       "Total GDP      USA      17800000000000.0  18300000000000.0  18600000000000.0   \n",
       "GDP Per Capita USA               55800.0           57000.0           57700.0   \n",
       "Gini Coeff     USA                  41.5              41.2              41.1   \n",
       "\n",
       "                                    2017              2018              2019  \\\n",
       "Metric         Country                                                         \n",
       "Total GDP      USA      19100000000000.0  19700000000000.0  20200000000000.0   \n",
       "GDP Per Capita USA               58700.0           60100.0           61400.0   \n",
       "Gini Coeff     USA                  41.2              41.4              41.4   \n",
       "\n",
       "                                    2020              2021              2022  \\\n",
       "Metric         Country                                                         \n",
       "Total GDP      USA      19700000000000.0  20900000000000.0  21400000000000.0   \n",
       "GDP Per Capita USA               59500.0           63000.0           64300.0   \n",
       "Gini Coeff     USA                  42.6              44.0              45.1   \n",
       "\n",
       "                                    2023  \n",
       "Metric         Country                    \n",
       "Total GDP      USA      22100000000000.0  \n",
       "GDP Per Capita USA               65900.0  \n",
       "Gini Coeff     USA                  45.9  \n",
       "\n",
       "[3 rows x 64 columns]"
      ]
     },
     "execution_count": 38,
     "metadata": {},
     "output_type": "execute_result"
    }
   ],
   "source": [
    "# Check for any country with more than X NANs \n",
    "#Canada = combined_data.xs('Canada', level='Country')\n",
    "#Canada_GDP_2023 = combined_data.xs('Total GDP', level='Metric').loc['Canada', '2023']\n",
    "#combined_data.isnull().sum()\n",
    "idx = pd.IndexSlice\n",
    "combined_data.loc[idx[:,'USA'],idx[:]]\n",
    "#combined_data_fixed.loc[idx[:,'Taiwan'],idx[:]]\n",
    "#print(*combined_data_fixed.groupby('Country'))\n",
    "\n",
    "# Drop or handle \n",
    "# Plot every country per year?? \n",
    "# Plot continent blocks?? \n",
    "# Look for any outliers \n",
    "# Explain those \n",
    "# Plot average, median, etc. global GDP per year?? "
   ]
  },
  {
   "cell_type": "code",
   "execution_count": 39,
   "id": "4f01df0b",
   "metadata": {},
   "outputs": [
    {
     "name": "stdout",
     "output_type": "stream",
     "text": [
      "['Seychelles', 'Malta', 'Canada', 'Zambia', 'Kiribati', 'Iraq', 'Panama', 'Philippines', 'Botswana', 'Togo', 'Ghana', 'Costa Rica', 'Algeria', 'Trinidad and Tobago', 'Kuwait', 'Ukraine', 'Netherlands', 'Finland', 'Central African Republic', 'Micronesia, Fed. Sts.', 'Haiti', 'Bahamas', 'Luxembourg', 'Sudan', 'Malawi', 'Spain', 'Tajikistan', 'Guinea-Bissau', 'South Korea', 'New Zealand', 'Bosnia and Herzegovina', 'Somalia', 'Benin', 'Barbados', 'Burundi', 'Grenada', \"Cote d'Ivoire\", 'Eswatini', 'Uzbekistan', 'Kazakhstan', 'Hungary', 'Ecuador', 'Cameroon', 'Djibouti', 'Australia', 'Latvia', 'Jordan', 'Syria', 'Vietnam', 'Madagascar', 'Colombia', 'St. Kitts and Nevis', 'Nigeria', 'Turkey', 'Mali', 'Angola', 'Denmark', 'UAE', 'USA', 'Moldova', 'Lebanon', 'Bahrain', 'Lao', 'Sri Lanka', 'Andorra', 'Monaco', 'Comoros', 'Belize', 'Saudi Arabia', 'Solomon Islands', 'Montenegro', 'Lithuania', 'France', 'Bangladesh', 'Serbia', 'Oman', 'Liechtenstein', 'South Africa', 'Israel', 'Czech Republic', 'Brunei', 'UK', 'Iran', 'Maldives', 'Sierra Leone', 'Peru', 'Tanzania', 'Zimbabwe', 'Cyprus', 'Guatemala', 'Liberia', 'Poland', 'Mexico', 'Croatia', 'Samoa', 'Gambia', 'China', 'Hong Kong, China', 'Pakistan', 'Albania', 'Singapore', 'Romania', 'Marshall Islands', 'Suriname', 'Tunisia', 'Belgium', 'Eritrea', 'Ethiopia', 'Switzerland', 'Tuvalu', 'Antigua and Barbuda', 'Iceland', 'Rwanda', 'Uganda', 'Belarus', 'Mozambique', 'Palau', 'Chad', 'Afghanistan', 'Niger', 'Mongolia', 'Dominica', 'Equatorial Guinea', 'Congo, Dem. Rep.', 'Turkmenistan', 'Slovenia', 'Ireland', 'Paraguay', 'Morocco', 'Senegal', 'Jamaica', 'Kenya', 'El Salvador', 'Argentina', 'San Marino', 'Bhutan', 'Timor-Leste', 'Libya', 'Guinea', 'St. Lucia', 'Mauritania', 'Nicaragua', 'Yemen', 'Qatar', 'India', 'Malaysia', 'Chile', 'Norway', 'Palestine', 'Myanmar', 'Congo, Rep.', 'Japan', 'Nepal', 'Russia', 'Honduras', 'Vanuatu', 'Slovak Republic', 'St. Vincent and the Grenadines', 'Brazil', 'Dominican Republic', 'Kyrgyz Republic', 'North Macedonia', 'Austria', 'Germany', 'Indonesia', 'Lesotho', 'Italy', 'Egypt', 'Azerbaijan', 'Mauritius', 'Georgia', 'Greece', 'Cambodia', 'Sweden', 'Armenia', 'Uruguay', 'Namibia', 'Sao Tome and Principe', 'Nauru', 'Guyana', 'Tonga', 'Burkina Faso', 'Cape Verde', 'Bolivia', 'Thailand', 'Fiji', 'Estonia', 'Gabon', 'Portugal', 'Bulgaria', 'Papua New Guinea', 'Cuba', 'South Sudan']\n"
     ]
    },
    {
     "data": {
      "image/png": "[encoded data removed]",
      "text/plain": [
       "<Figure size 640x480 with 1 Axes>"
      ]
     },
     "metadata": {},
     "output_type": "display_data"
    },
    {
     "data": {
      "image/png": "[encoded data removed]",
      "text/plain": [
       "<Figure size 640x480 with 1 Axes>"
      ]
     },
     "metadata": {},
     "output_type": "display_data"
    },
    {
     "ename": "TypeError",
     "evalue": "no numeric data to plot",
     "output_type": "error",
     "traceback": [
      "\u001b[1;31m---------------------------------------------------------------------------\u001b[0m",
      "\u001b[1;31mTypeError\u001b[0m                                 Traceback (most recent call last)",
      "Cell \u001b[1;32mIn[39], line 28\u001b[0m\n\u001b[0;32m     26\u001b[0m plotter(combined_data,countries,years,\u001b[38;5;124m'\u001b[39m\u001b[38;5;124mGini Coeff\u001b[39m\u001b[38;5;124m'\u001b[39m)\n\u001b[0;32m     27\u001b[0m plotter(combined_data,countries,years,\u001b[38;5;124m'\u001b[39m\u001b[38;5;124mTotal GDP\u001b[39m\u001b[38;5;124m'\u001b[39m)\n\u001b[1;32m---> 28\u001b[0m plotter(combined_data,countries,years,\u001b[38;5;124m'\u001b[39m\u001b[38;5;124mGDP Per Capita\u001b[39m\u001b[38;5;124m'\u001b[39m)\n",
      "Cell \u001b[1;32mIn[39], line 22\u001b[0m, in \u001b[0;36mplotter\u001b[1;34m(df, country_list, year_range, data_section)\u001b[0m\n\u001b[0;32m     20\u001b[0m idx \u001b[38;5;241m=\u001b[39m pd\u001b[38;5;241m.\u001b[39mIndexSlice\n\u001b[0;32m     21\u001b[0m sub_df \u001b[38;5;241m=\u001b[39m df\u001b[38;5;241m.\u001b[39mloc[idx[data_section,country_list],idx[year_range[\u001b[38;5;241m0\u001b[39m]:year_range[\u001b[38;5;241m-\u001b[39m\u001b[38;5;241m1\u001b[39m]]]\n\u001b[1;32m---> 22\u001b[0m sub_df\u001b[38;5;241m.\u001b[39mtranspose()\u001b[38;5;241m.\u001b[39mplot() \n\u001b[0;32m     23\u001b[0m plt\u001b[38;5;241m.\u001b[39mlegend(bbox_to_anchor\u001b[38;5;241m=\u001b[39m(\u001b[38;5;241m1.05\u001b[39m, \u001b[38;5;241m1\u001b[39m), loc\u001b[38;5;241m=\u001b[39m\u001b[38;5;124m'\u001b[39m\u001b[38;5;124mupper left\u001b[39m\u001b[38;5;124m'\u001b[39m, borderaxespad\u001b[38;5;241m=\u001b[39m\u001b[38;5;241m0.\u001b[39m)\n\u001b[0;32m     24\u001b[0m plt\u001b[38;5;241m.\u001b[39mshow()\n",
      "File \u001b[1;32mc:\\Users\\ctcas\\anaconda3\\Lib\\site-packages\\pandas\\plotting\\_core.py:1030\u001b[0m, in \u001b[0;36mPlotAccessor.__call__\u001b[1;34m(self, *args, **kwargs)\u001b[0m\n\u001b[0;32m   1027\u001b[0m             label_name \u001b[38;5;241m=\u001b[39m label_kw \u001b[38;5;129;01mor\u001b[39;00m data\u001b[38;5;241m.\u001b[39mcolumns\n\u001b[0;32m   1028\u001b[0m             data\u001b[38;5;241m.\u001b[39mcolumns \u001b[38;5;241m=\u001b[39m label_name\n\u001b[1;32m-> 1030\u001b[0m \u001b[38;5;28;01mreturn\u001b[39;00m plot_backend\u001b[38;5;241m.\u001b[39mplot(data, kind\u001b[38;5;241m=\u001b[39mkind, \u001b[38;5;241m*\u001b[39m\u001b[38;5;241m*\u001b[39mkwargs)\n",
      "File \u001b[1;32mc:\\Users\\ctcas\\anaconda3\\Lib\\site-packages\\pandas\\plotting\\_matplotlib\\__init__.py:71\u001b[0m, in \u001b[0;36mplot\u001b[1;34m(data, kind, **kwargs)\u001b[0m\n\u001b[0;32m     69\u001b[0m         kwargs[\u001b[38;5;124m\"\u001b[39m\u001b[38;5;124max\u001b[39m\u001b[38;5;124m\"\u001b[39m] \u001b[38;5;241m=\u001b[39m \u001b[38;5;28mgetattr\u001b[39m(ax, \u001b[38;5;124m\"\u001b[39m\u001b[38;5;124mleft_ax\u001b[39m\u001b[38;5;124m\"\u001b[39m, ax)\n\u001b[0;32m     70\u001b[0m plot_obj \u001b[38;5;241m=\u001b[39m PLOT_CLASSES[kind](data, \u001b[38;5;241m*\u001b[39m\u001b[38;5;241m*\u001b[39mkwargs)\n\u001b[1;32m---> 71\u001b[0m plot_obj\u001b[38;5;241m.\u001b[39mgenerate()\n\u001b[0;32m     72\u001b[0m plot_obj\u001b[38;5;241m.\u001b[39mdraw()\n\u001b[0;32m     73\u001b[0m \u001b[38;5;28;01mreturn\u001b[39;00m plot_obj\u001b[38;5;241m.\u001b[39mresult\n",
      "File \u001b[1;32mc:\\Users\\ctcas\\anaconda3\\Lib\\site-packages\\pandas\\plotting\\_matplotlib\\core.py:499\u001b[0m, in \u001b[0;36mMPLPlot.generate\u001b[1;34m(self)\u001b[0m\n\u001b[0;32m    497\u001b[0m \u001b[38;5;129m@final\u001b[39m\n\u001b[0;32m    498\u001b[0m \u001b[38;5;28;01mdef\u001b[39;00m \u001b[38;5;21mgenerate\u001b[39m(\u001b[38;5;28mself\u001b[39m) \u001b[38;5;241m-\u001b[39m\u001b[38;5;241m>\u001b[39m \u001b[38;5;28;01mNone\u001b[39;00m:\n\u001b[1;32m--> 499\u001b[0m     \u001b[38;5;28mself\u001b[39m\u001b[38;5;241m.\u001b[39m_compute_plot_data()\n\u001b[0;32m    500\u001b[0m     fig \u001b[38;5;241m=\u001b[39m \u001b[38;5;28mself\u001b[39m\u001b[38;5;241m.\u001b[39mfig\n\u001b[0;32m    501\u001b[0m     \u001b[38;5;28mself\u001b[39m\u001b[38;5;241m.\u001b[39m_make_plot(fig)\n",
      "File \u001b[1;32mc:\\Users\\ctcas\\anaconda3\\Lib\\site-packages\\pandas\\plotting\\_matplotlib\\core.py:698\u001b[0m, in \u001b[0;36mMPLPlot._compute_plot_data\u001b[1;34m(self)\u001b[0m\n\u001b[0;32m    696\u001b[0m \u001b[38;5;66;03m# no non-numeric frames or series allowed\u001b[39;00m\n\u001b[0;32m    697\u001b[0m \u001b[38;5;28;01mif\u001b[39;00m is_empty:\n\u001b[1;32m--> 698\u001b[0m     \u001b[38;5;28;01mraise\u001b[39;00m \u001b[38;5;167;01mTypeError\u001b[39;00m(\u001b[38;5;124m\"\u001b[39m\u001b[38;5;124mno numeric data to plot\u001b[39m\u001b[38;5;124m\"\u001b[39m)\n\u001b[0;32m    700\u001b[0m \u001b[38;5;28mself\u001b[39m\u001b[38;5;241m.\u001b[39mdata \u001b[38;5;241m=\u001b[39m numeric_data\u001b[38;5;241m.\u001b[39mapply(\u001b[38;5;28mtype\u001b[39m(\u001b[38;5;28mself\u001b[39m)\u001b[38;5;241m.\u001b[39m_convert_to_ndarray)\n",
      "\u001b[1;31mTypeError\u001b[0m: no numeric data to plot"
     ]
    }
   ],
   "source": [
    "# Tasks going forward:\n",
    "# - User Entry\n",
    "#     - Prompt user to enter some number of countries, and a start year and end year.\n",
    "#     - Returns a tuple of ([list of Strings as country names], [list of start year, end year]).\n",
    "\n",
    "# - Plotting:\n",
    "#     - Plot for each metric containing:\n",
    "#         - all contries and global average for time slice. \n",
    "\n",
    "# Advanced index slicing per countries, expecting them to come in as a list from input() \n",
    "# Advanced slicing coming in as a list for year to year \n",
    "# To split an input string \n",
    "import matplotlib.pyplot as plt \n",
    "#print(combined_data_fixed.head())\n",
    "print(common_countries)\n",
    "countries = ['South Korea','Brazil','Mexico','South Africa','Poland','India','Taiwan']\n",
    "#country_list = common_countries\n",
    "years = ['1960','2023'] \n",
    "def plotter(df, country_list, year_range, data_section):\n",
    "    idx = pd.IndexSlice\n",
    "    sub_df = df.loc[idx[data_section,country_list],idx[year_range[0]:year_range[-1]]]\n",
    "    sub_df.transpose().plot() \n",
    "    plt.legend(bbox_to_anchor=(1.05, 1), loc='upper left', borderaxespad=0.)\n",
    "    plt.show()\n",
    "\n",
    "plotter(combined_data,countries,years,'Gini Coeff')\n",
    "plotter(combined_data,countries,years,'Total GDP')\n",
    "plotter(combined_data,countries,years,'GDP Per Capita')\n",
    "\n"
   ]
  },
  {
   "cell_type": "code",
   "execution_count": null,
   "id": "97e3f4aa",
   "metadata": {},
   "outputs": [],
   "source": []
  }
 ],
 "metadata": {
  "kernelspec": {
   "display_name": "base",
   "language": "python",
   "name": "python3"
  },
  "language_info": {
   "codemirror_mode": {
    "name": "ipython",
    "version": 3
   },
   "file_extension": ".py",
   "mimetype": "text/x-python",
   "name": "python",
   "nbconvert_exporter": "python",
   "pygments_lexer": "ipython3",
   "version": "3.12.7"
  }
 },
 "nbformat": 4,
 "nbformat_minor": 5
}
