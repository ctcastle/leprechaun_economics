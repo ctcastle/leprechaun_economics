{
 "cells": [
  {
   "cell_type": "markdown",
   "id": "5c1ad907",
   "metadata": {},
   "source": [
    "Workbook\n",
    "\n",
    "First step is to load in the data into separate pandas dataframes"
   ]
  },
  {
   "cell_type": "code",
   "execution_count": 1,
   "id": "4949547a",
   "metadata": {},
   "outputs": [],
   "source": [
    "import numpy as np\n",
    "import pandas as pd\n",
    "\n",
    "total_gdp = pd.read_csv(\"total_gdp_us_inflation_adjusted.csv\")\n",
    "total_gdp = total_gdp.set_index('country')\n",
    "\n",
    "gdp_percap = pd.read_csv(\"gdppercapita_us_inflation_adjusted.csv\")\n",
    "gdp_percap = gdp_percap.set_index('country')\n",
    "gini = pd.read_csv(\"gini.csv\")\n",
    "gini = gini.set_index('country')"
   ]
  },
  {
   "cell_type": "markdown",
   "id": "063ceac0",
   "metadata": {},
   "source": [
    "Convert values in each df from string to float, parsing special characters as needed. E.g., '400B' is 400.0e9."
   ]
  },
  {
   "cell_type": "code",
   "execution_count": 2,
   "id": "250ebce4",
   "metadata": {},
   "outputs": [],
   "source": [
    "total_gdp_copy = total_gdp.copy()\n",
    "gdp_percap_copy = gdp_percap.copy()\n",
    "    \n",
    "\n",
    "for country in total_gdp_copy.index:\n",
    "    for year in total_gdp_copy:\n",
    "        val = total_gdp_copy.loc[country][year]\n",
    "        if isinstance(val, float):\n",
    "            continue    \n",
    "        val = val.strip().upper()\n",
    "        if val.endswith('K'):\n",
    "            total_gdp_copy.loc[country][year] = float(val[:-1]) * 1e3\n",
    "        elif val.endswith('M'):\n",
    "            total_gdp_copy.loc[country][year] = float(val[:-1]) * 1e6\n",
    "        elif val.endswith('B'):\n",
    "            total_gdp_copy.loc[country][year] = float(val[:-1]) * 1e9\n",
    "        elif val.endswith('TR'):\n",
    "            total_gdp_copy.loc[country][year] = float(val[:-2]) * 1e12\n",
    "        else:\n",
    "            total_gdp_copy.loc[country][year] = float(val[:-1])\n",
    "\n",
    "for country in gdp_percap_copy.index:\n",
    "    for year in gdp_percap_copy:\n",
    "        val = gdp_percap_copy.loc[country][year]\n",
    "        if isinstance(val, float):\n",
    "            continue    \n",
    "        val = val.strip().upper()\n",
    "        if val.endswith('K'):\n",
    "            gdp_percap_copy.loc[country][year] = float(val[:-1]) * 1e3\n",
    "        elif val.endswith('M'):\n",
    "            gdp_percap_copy.loc[country][year] = float(val[:-1]) * 1e6\n",
    "        elif val.endswith('B'):\n",
    "            gdp_percap_copy.loc[country][year] = float(val[:-1]) * 1e9\n",
    "        elif val.endswith('TR'):\n",
    "            gdp_percap_copy.loc[country][year] = float(val[:-2]) * 1e12\n",
    "        else:\n",
    "            gdp_percap_copy.loc[country][year] = float(val[:-1])\n",
    "del country\n",
    "del year\n",
    "del val\n",
    "\n"
   ]
  },
  {
   "cell_type": "markdown",
   "id": "0e1d0705",
   "metadata": {},
   "source": [
    "Raw data loaded in as pandas dataframes. Now need to merge across a new axis called 'Metric'. Outer index is 'Metric', inner index is 'Country'. Use inner join to only include years common to all dataframes."
   ]
  },
  {
   "cell_type": "code",
   "execution_count": 3,
   "id": "aeff8530",
   "metadata": {},
   "outputs": [],
   "source": [
    "mask_total_gdp     = total_gdp_copy.index.isin(gdp_percap_copy.index) & total_gdp_copy.index.isin(gini.index)\n",
    "mask_gdp_percap    = gdp_percap_copy.index.isin(total_gdp_copy.index) & gdp_percap_copy.index.isin(gini.index)\n",
    "mask_gini          = gini.index.isin(total_gdp_copy.index) & gini.index.isin(gdp_percap_copy.index)\n",
    "\n",
    "total_gdp_filtered     = total_gdp_copy[mask_total_gdp]\n",
    "gdp_percap_filtered    = gdp_percap_copy[mask_gdp_percap]\n",
    "gini_filtered          = gini[mask_gini]"
   ]
  },
  {
   "cell_type": "code",
   "execution_count": 5,
   "id": "40b93336",
   "metadata": {},
   "outputs": [],
   "source": [
    "combined_data = pd.concat([total_gdp_filtered, gdp_percap_filtered, gini_filtered], axis=0, keys=['Total GDP', 'GDP Per Capita', 'Gini Coeff'], join='inner')\n",
    "combined_data.index.names = ['Metric', 'Country']\n",
    "# new_gini = combined_data.loc['Gini Coeff']\n",
    "# Canada = combined_data.xs('Canada', level='Country')\n",
    "# Canada_GDP_2023 = combined_data.xs('Total GDP', level='Metric').loc['Canada', '2023']\n",
    "# combined_data.shape\n",
    "# totalGDP_Gini_diff = total_gdp_copy.index.difference(gini.index)\n",
    "# Gini_totalGDP_diff = gini.index.difference(total_gdp.index)\n",
    "# GDPpercap_Gini_diff = gdp_percap_copy.index.difference(gini.index)\n",
    "\n",
    "# all_rejected_countries = list(totalGDP_Gini_diff) + list(Gini_totalGDP_diff)\n",
    "# print(all_rejected_countries)\n",
    "del mask_total_gdp\n",
    "del mask_gdp_percap\n",
    "del mask_gini\n",
    "\n",
    "del total_gdp_filtered\n",
    "del gdp_percap_filtered\n",
    "del gini_filtered       \n"
   ]
  },
  {
   "cell_type": "code",
   "execution_count": null,
   "id": "813ca199",
   "metadata": {},
   "outputs": [],
   "source": [
    "# Canada = combined_data.xs('Canada', level='Country')\n",
    "# Canada_GDP_2023 = combined_data.xs('Total GDP', level='Metric').loc['Canada', '2023']"
   ]
  },
  {
   "cell_type": "markdown",
   "id": "ded57a0b",
   "metadata": {},
   "source": [
    "Now, remove rows (countries) that do not meet the threshold for sufficient valid data. For now, lets say we need a minimum of half of the years having a value."
   ]
  },
  {
   "cell_type": "code",
   "execution_count": 29,
   "id": "e707680a",
   "metadata": {},
   "outputs": [
    {
     "data": {
      "text/plain": [
       "<bound method DataFrame.sort_index of                          1960  1961  1962  1963  1964  1965  1966  1967  1968  \\\n",
       "Metric     Country                                                              \n",
       "Total GDP  Afghanistan    NaN   NaN   NaN   NaN   NaN   NaN   NaN   NaN   NaN   \n",
       "           Angola         NaN   NaN   NaN   NaN   NaN   NaN   NaN   NaN   NaN   \n",
       "           Albania        NaN   NaN   NaN   NaN   NaN   NaN   NaN   NaN   NaN   \n",
       "           Andorra        NaN   NaN   NaN   NaN   NaN   NaN   NaN   NaN   NaN   \n",
       "           UAE            NaN   NaN   NaN   NaN   NaN   NaN   NaN   NaN   NaN   \n",
       "...                       ...   ...   ...   ...   ...   ...   ...   ...   ...   \n",
       "Gini Coeff Samoa         40.7  40.7  40.7  40.7  40.7  40.7  40.7  40.7  40.7   \n",
       "           Yemen         37.3  37.3  37.3  37.3  37.3  37.3  37.3  37.3  37.3   \n",
       "           South Africa  66.0  66.9  67.5  67.9  68.0  68.1  68.2  68.4  68.5   \n",
       "           Zambia        64.3  65.0  65.5  65.9  66.1  66.3  66.3  66.4  66.4   \n",
       "           Zimbabwe      38.9  39.3  39.7  39.9  40.1  40.2  40.3  40.3  40.2   \n",
       "\n",
       "                         1969  ...            2014            2015  \\\n",
       "Metric     Country             ...                                   \n",
       "Total GDP  Afghanistan    NaN  ...   18900000000.0   19100000000.0   \n",
       "           Angola         NaN  ...   89700000000.0   90500000000.0   \n",
       "           Albania        NaN  ...   11100000000.0   11400000000.0   \n",
       "           Andorra        NaN  ...    2750000000.0    2790000000.0   \n",
       "           UAE            NaN  ...  347000000000.0  370000000000.0   \n",
       "...                       ...  ...             ...             ...   \n",
       "Gini Coeff Samoa         40.7  ...            38.7            38.7   \n",
       "           Yemen         37.2  ...            36.7            36.7   \n",
       "           South Africa  68.6  ...            63.0            62.7   \n",
       "           Zambia        66.5  ...            56.8            57.1   \n",
       "           Zimbabwe      40.2  ...            43.7            43.9   \n",
       "\n",
       "                                   2016            2017            2018  \\\n",
       "Metric     Country                                                        \n",
       "Total GDP  Afghanistan    19600000000.0   20100000000.0   20300000000.0   \n",
       "           Angola         88200000000.0   88000000000.0   86900000000.0   \n",
       "           Albania        11800000000.0   12200000000.0   12700000000.0   \n",
       "           Andorra         2890000000.0    2900000000.0    2950000000.0   \n",
       "           UAE           391000000000.0  394000000000.0  399000000000.0   \n",
       "...                                 ...             ...             ...   \n",
       "Gini Coeff Samoa                   38.7            38.7            38.7   \n",
       "           Yemen                   36.7            36.7            36.7   \n",
       "           South Africa            63.0            63.3            63.3   \n",
       "           Zambia                  57.1            57.1            57.1   \n",
       "           Zimbabwe                44.1            44.3            47.2   \n",
       "\n",
       "                                   2019            2020            2021  \\\n",
       "Metric     Country                                                        \n",
       "Total GDP  Afghanistan    21100000000.0   20600000000.0   16300000000.0   \n",
       "           Angola         86300000000.0   81400000000.0   82400000000.0   \n",
       "           Albania        13000000000.0   12500000000.0   13700000000.0   \n",
       "           Andorra         3010000000.0    2670000000.0    2890000000.0   \n",
       "           UAE           403000000000.0  383000000000.0  400000000000.0   \n",
       "...                                 ...             ...             ...   \n",
       "Gini Coeff Samoa                   38.7            38.7            38.7   \n",
       "           Yemen                   36.7            37.5            38.5   \n",
       "           South Africa            63.3            64.0            64.9   \n",
       "           Zambia                  57.1            57.9            58.9   \n",
       "           Zimbabwe                50.3            51.0            51.8   \n",
       "\n",
       "                                   2022            2023  \n",
       "Metric     Country                                       \n",
       "Total GDP  Afghanistan    15300000000.0   15700000000.0  \n",
       "           Angola         84900000000.0   85700000000.0  \n",
       "           Albania        14300000000.0   14900000000.0  \n",
       "           Andorra         3170000000.0    3250000000.0  \n",
       "           UAE           430000000000.0  446000000000.0  \n",
       "...                                 ...             ...  \n",
       "Gini Coeff Samoa                   38.7            38.7  \n",
       "           Yemen                   39.2            39.7  \n",
       "           South Africa            65.7            66.2  \n",
       "           Zambia                  59.6            60.2  \n",
       "           Zimbabwe                52.4            52.9  \n",
       "\n",
       "[579 rows x 64 columns]>"
      ]
     },
     "execution_count": 29,
     "metadata": {},
     "output_type": "execute_result"
    }
   ],
   "source": [
    "combined_data_copy = combined_data.copy()\n",
    "combined_data_copy.sort_index\n",
    "\n",
    "\n",
    "\n"
   ]
  },
  {
   "cell_type": "code",
   "execution_count": 14,
   "id": "8b093033",
   "metadata": {},
   "outputs": [],
   "source": [
    "years_list = combined_data_copy.columns.tolist()\n",
    "valid_country_list = combined_data.index.get_level_values('Country').unique().tolist()"
   ]
  },
  {
   "cell_type": "code",
   "execution_count": 32,
   "id": "4b973255",
   "metadata": {},
   "outputs": [
    {
     "name": "stdout",
     "output_type": "stream",
     "text": [
      "Dropping Afghanistan  -  40 missing values in Total GDP.\n",
      "40 missing values in GDP Per Capita.\n",
      "Dropping Djibouti  -  53 missing values in Total GDP.\n",
      "53 missing values in GDP Per Capita.\n",
      "Dropping Eritrea  -  44 missing values in Total GDP.\n",
      "44 missing values in GDP Per Capita.\n",
      "Dropping Liechtenstein  -  63 missing values in Total GDP.\n",
      "63 missing values in GDP Per Capita.\n",
      "Dropping Montenegro  -  37 missing values in Total GDP.\n",
      "37 missing values in GDP Per Capita.\n",
      "Dropping Palestine  -  34 missing values in Total GDP.\n",
      "34 missing values in GDP Per Capita.\n",
      "Dropping San Marino  -  38 missing values in Total GDP.\n",
      "38 missing values in GDP Per Capita.\n",
      "Dropping Serbia  -  35 missing values in Total GDP.\n",
      "35 missing values in GDP Per Capita.\n",
      "Dropping South Sudan  -  56 missing values in Total GDP.\n",
      "56 missing values in GDP Per Capita.\n",
      "Dropping Yemen  -  35 missing values in Total GDP.\n",
      "30 missing values in GDP Per Capita.\n"
     ]
    }
   ],
   "source": [
    "# Canada = combined_data.xs('Canada', level='Country').drop()\n",
    "# canada_gdp = pd.isna(Canada.loc['Total GDP'].values).sum()\n",
    "# UAE = combined_data.xs('UAE', level='Country')\n",
    "# UAE_gdp = pd.isna(UAE.loc['Total GDP'].values).sum()\n",
    "\n",
    "for country in valid_country_list:\n",
    "    country_slice = combined_data.xs(country, level='Country')\n",
    "    country_gdp_nan_sum = pd.isna(country_slice.loc['Total GDP'].values).sum()\n",
    "    country_gdp_percap_nan_sum = pd.isna(country_slice.loc['GDP Per Capita'].values).sum()\n",
    "    if (country_gdp_nan_sum > len(years_list)/2) | (country_gdp_percap_nan_sum > len(years_list)/2):\n",
    "        combined_data_copy = combined_data_copy.drop(country, level='Country')\n",
    "        print(\"Dropping\", country, \" - \", country_gdp_nan_sum, \"missing values in Total GDP.\")\n",
    "        print(country_gdp_percap_nan_sum, \"missing values in GDP Per Capita.\")"
   ]
  },
  {
   "cell_type": "code",
   "execution_count": 39,
   "id": "54879b62",
   "metadata": {},
   "outputs": [
    {
     "data": {
      "text/plain": [
       "True"
      ]
     },
     "execution_count": 39,
     "metadata": {},
     "output_type": "execute_result"
    }
   ],
   "source": [
    "valid_country_list = combined_data_copy.index.get_level_values('Country').unique().tolist()\n",
    "combined_data_copy.index.names[0] == 'Metric'"
   ]
  },
  {
   "cell_type": "markdown",
   "id": "82048642",
   "metadata": {},
   "source": [
    "Tasks going forward:\n",
    "- User Entry (COMPLETED)\n",
    "    - Prompt user to enter some number of countries, and a start year and end year.\n",
    "    - Returns a tuple of ([list of Strings as country names], [list of start year, end year]).\n",
    "\n",
    "- Dataframe cleaning: (COMPLETED)\n",
    "    Remove countries that have less that length/2 valid numbers.\n",
    "\n",
    "- Plotting:\n",
    "    - Plot for each metric containing:\n",
    "        - all contries and global average for time slice. \n",
    "\n",
    "- Presentation:\n",
    "    - Summary of problem statement\n",
    "    - Summary of data processing steps taken\n",
    "    - Figures\n",
    "    - Formatting into .pptx\n"
   ]
  },
  {
   "cell_type": "code",
   "execution_count": null,
   "id": "e53bd25e",
   "metadata": {},
   "outputs": [],
   "source": [
    "import geopandas as gdp_percap\n"
   ]
  }
 ],
 "metadata": {
  "kernelspec": {
   "display_name": "base",
   "language": "python",
   "name": "python3"
  },
  "language_info": {
   "codemirror_mode": {
    "name": "ipython",
    "version": 3
   },
   "file_extension": ".py",
   "mimetype": "text/x-python",
   "name": "python",
   "nbconvert_exporter": "python",
   "pygments_lexer": "ipython3",
   "version": "3.10.9"
  }
 },
 "nbformat": 4,
 "nbformat_minor": 5
}
