{
 "cells": [
  {
   "cell_type": "markdown",
   "id": "5c1ad907",
   "metadata": {},
   "source": [
    "Workbook\n",
    "\n",
    "First step is to load in the data into separate pandas dataframes"
   ]
  },
  {
   "cell_type": "code",
   "execution_count": null,
   "id": "4949547a",
   "metadata": {},
   "outputs": [],
   "source": [
    "import numpy as np\n",
    "import pandas as pd\n",
    "\n",
    "total_gdp = pd.read_csv(\"total_gdp_us_inflation_adjusted.csv\")\n",
    "total_gdp = total_gdp.set_index('country')\n",
    "total_gdp_copy = total_gdp.copy()\n",
    "\n",
    "gdp_percap = pd.read_csv(\"gdppercapita_us_inflation_adjusted.csv\")\n",
    "gdp_percap = gdp_percap.set_index('country')\n",
    "gini = pd.read_csv(\"gini.csv\")\n",
    "gini = gini.set_index('country')"
   ]
  },
  {
   "cell_type": "markdown",
   "id": "063ceac0",
   "metadata": {},
   "source": [
    "Convert values in each df from string to float, parsing special characters as needed. E.g., '400B' is 400.0e9."
   ]
  },
  {
   "cell_type": "code",
   "execution_count": null,
   "id": "250ebce4",
   "metadata": {},
   "outputs": [],
   "source": [
    "total_gdp_copy = total_gdp.copy()\n",
    "\n",
    "for country in total_gdp_copy.index:\n",
    "    for year in total_gdp_copy:\n",
    "        val = total_gdp_copy.loc[country][year]\n",
    "        if\n",
    "            val = val.strip().upper()\n",
    "        elif val.endswith('K'):\n",
    "            total_gdp_copy.loc[country][year] = float(val[:-1]) * 1e3\n",
    "        elif val.endswith('M'):\n",
    "            total_gdp_copy.loc[country][year] = float(val[:-1]) * 1e6\n",
    "        elif val.endswith('B'):\n",
    "            total_gdp_copy.loc[country][year] = float(val[:-1]) * 1e9\n",
    "        elif val.endswith('TR'):\n",
    "            total_gdp_copy.loc[country][year] = float(val[:-1]) * 1e12\n",
    "        else:\n",
    "            total_gdp_copy.loc[country][year] = float(val[:-1])"
   ]
  },
  {
   "cell_type": "markdown",
   "id": "0e1d0705",
   "metadata": {},
   "source": [
    "Raw data loaded in as pandas dataframes. Now need to merge across a new axis called 'Metric'. Outer index is 'Metric', inner index is 'Country'."
   ]
  },
  {
   "cell_type": "code",
   "execution_count": null,
   "id": "40b93336",
   "metadata": {},
   "outputs": [],
   "source": [
    "combined_data = pd.concat([total_gdp, gdp_percap, gini], axis=0, keys=['Total GDP', 'GDP Per Capita', 'Gini Coeff'])\n",
    "combined_data.index.names = ['Metric', 'Country']\n",
    "new_gini = combined_data.loc['Gini Coeff']\n",
    "Canada = combined_data.xs('Canada', level='Country')\n",
    "Canada_GDP_2023 = combined_data.xs('Total GDP', level='Metric').loc['Canada', '2023']"
   ]
  },
  {
   "cell_type": "code",
   "execution_count": null,
   "id": "813ca199",
   "metadata": {},
   "outputs": [],
   "source": [
    "Canada = combined_data.xs('Canada', level='Country')\n",
    "Canada_GDP_2023 = combined_data.xs('Total GDP', level='Metric').loc['Canada', '2023']"
   ]
  }
 ],
 "metadata": {
  "kernelspec": {
   "display_name": "base",
   "language": "python",
   "name": "python3"
  },
  "language_info": {
   "name": "python",
   "version": "3.10.9"
  }
 },
 "nbformat": 4,
 "nbformat_minor": 5
}
