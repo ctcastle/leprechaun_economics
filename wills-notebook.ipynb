{
 "cells": [
  {
   "cell_type": "markdown",
   "id": "5c1ad907",
   "metadata": {},
   "source": [
    "Workbook\n",
    "\n",
    "First step is to load in the data into separate pandas dataframes"
   ]
  },
  {
   "cell_type": "code",
   "execution_count": 1,
   "id": "4949547a",
   "metadata": {},
   "outputs": [],
   "source": [
    "import numpy as np\n",
    "import pandas as pd\n",
    "\n",
    "total_gdp = pd.read_csv(\"total_gdp_us_inflation_adjusted.csv\")\n",
    "total_gdp = total_gdp.set_index('country')\n",
    "\n",
    "gdp_percap = pd.read_csv(\"gdppercapita_us_inflation_adjusted.csv\")\n",
    "gdp_percap = gdp_percap.set_index('country')\n",
    "gini = pd.read_csv(\"gini.csv\")\n",
    "gini = gini.set_index('country')"
   ]
  },
  {
   "cell_type": "markdown",
   "id": "063ceac0",
   "metadata": {},
   "source": [
    "Convert values in each df from string to float, parsing special characters as needed. E.g., '400B' is 400.0e9."
   ]
  },
  {
   "cell_type": "code",
   "execution_count": 2,
   "id": "250ebce4",
   "metadata": {},
   "outputs": [],
   "source": [
    "total_gdp_copy = total_gdp.copy()\n",
    "gdp_percap_copy = gdp_percap.copy()\n",
    "    \n",
    "\n",
    "for country in total_gdp_copy.index:\n",
    "    for year in total_gdp_copy:\n",
    "        val = total_gdp_copy.loc[country][year]\n",
    "        if isinstance(val, float):\n",
    "            continue    \n",
    "        val = val.strip().upper()\n",
    "        if val.endswith('K'):\n",
    "            total_gdp_copy.loc[country][year] = float(val[:-1]) * 1e3\n",
    "        elif val.endswith('M'):\n",
    "            total_gdp_copy.loc[country][year] = float(val[:-1]) * 1e6\n",
    "        elif val.endswith('B'):\n",
    "            total_gdp_copy.loc[country][year] = float(val[:-1]) * 1e9\n",
    "        elif val.endswith('TR'):\n",
    "            total_gdp_copy.loc[country][year] = float(val[:-2]) * 1e12\n",
    "        else:\n",
    "            total_gdp_copy.loc[country][year] = float(val[:-1])\n",
    "\n",
    "for country in gdp_percap_copy.index:\n",
    "    for year in gdp_percap_copy:\n",
    "        val = gdp_percap_copy.loc[country][year]\n",
    "        if isinstance(val, float):\n",
    "            continue    \n",
    "        val = val.strip().upper()\n",
    "        if val.endswith('K'):\n",
    "            gdp_percap_copy.loc[country][year] = float(val[:-1]) * 1e3\n",
    "        elif val.endswith('M'):\n",
    "            gdp_percap_copy.loc[country][year] = float(val[:-1]) * 1e6\n",
    "        elif val.endswith('B'):\n",
    "            gdp_percap_copy.loc[country][year] = float(val[:-1]) * 1e9\n",
    "        elif val.endswith('TR'):\n",
    "            gdp_percap_copy.loc[country][year] = float(val[:-2]) * 1e12\n",
    "        else:\n",
    "            gdp_percap_copy.loc[country][year] = float(val[:-1])\n",
    "del country\n",
    "del year\n",
    "del val\n",
    "\n"
   ]
  },
  {
   "cell_type": "markdown",
   "id": "0e1d0705",
   "metadata": {},
   "source": [
    "Raw data loaded in as pandas dataframes. Now need to merge across a new axis called 'Metric'. Outer index is 'Metric', inner index is 'Country'. Use inner join to only include years common to all dataframes."
   ]
  },
  {
   "cell_type": "code",
   "execution_count": 3,
   "id": "aeff8530",
   "metadata": {},
   "outputs": [],
   "source": [
    "mask_total_gdp     = total_gdp_copy.index.isin(gdp_percap_copy.index) & total_gdp_copy.index.isin(gini.index)\n",
    "mask_gdp_percap    = gdp_percap_copy.index.isin(total_gdp_copy.index) & gdp_percap_copy.index.isin(gini.index)\n",
    "mask_gini          = gini.index.isin(total_gdp_copy.index) & gini.index.isin(gdp_percap_copy.index)\n",
    "\n",
    "total_gdp_filtered     = total_gdp_copy[mask_total_gdp]\n",
    "gdp_percap_filtered    = gdp_percap_copy[mask_gdp_percap]\n",
    "gini_filtered          = gini[mask_gini]"
   ]
  },
  {
   "cell_type": "code",
   "execution_count": 5,
   "id": "40b93336",
   "metadata": {},
   "outputs": [],
   "source": [
    "combined_data = pd.concat([total_gdp_filtered, gdp_percap_filtered, gini_filtered], axis=0, keys=['Total GDP', 'GDP Per Capita', 'Gini Coeff'], join='inner')\n",
    "combined_data.index.names = ['Metric', 'Country']\n",
    "# new_gini = combined_data.loc['Gini Coeff']\n",
    "# Canada = combined_data.xs('Canada', level='Country')\n",
    "# Canada_GDP_2023 = combined_data.xs('Total GDP', level='Metric').loc['Canada', '2023']\n",
    "# combined_data.shape\n",
    "# totalGDP_Gini_diff = total_gdp_copy.index.difference(gini.index)\n",
    "# Gini_totalGDP_diff = gini.index.difference(total_gdp.index)\n",
    "# GDPpercap_Gini_diff = gdp_percap_copy.index.difference(gini.index)\n",
    "\n",
    "# all_rejected_countries = list(totalGDP_Gini_diff) + list(Gini_totalGDP_diff)\n",
    "# print(all_rejected_countries)\n",
    "del mask_total_gdp\n",
    "del mask_gdp_percap\n",
    "del mask_gini\n",
    "\n",
    "del total_gdp_filtered\n",
    "del gdp_percap_filtered\n",
    "del gini_filtered       \n"
   ]
  },
  {
   "cell_type": "code",
   "execution_count": null,
   "id": "813ca199",
   "metadata": {},
   "outputs": [],
   "source": [
    "Canada = combined_data.xs('Canada', level='Country')\n",
    "Canada_GDP_2023 = combined_data.xs('Total GDP', level='Metric').loc['Canada', '2023']"
   ]
  },
  {
   "cell_type": "markdown",
   "id": "ded57a0b",
   "metadata": {},
   "source": [
    "Now, remove rows (countries) that do not meet the threshold for sufficient valid data. For now, lets say we need a minimum of half of the years having a value."
   ]
  },
  {
   "cell_type": "code",
   "execution_count": null,
   "id": "e707680a",
   "metadata": {},
   "outputs": [],
   "source": [
    "combined_data_copy = combined_data.copy()\n",
    "num_all_years = combined_data.shape[1]\n",
    "threshold_years = num_all_years/2\n",
    "\n",
    "gdp_data = combined_data_copy.loc['Total GDP']\n",
    "nan_counts = gdp_data\n",
    "\n"
   ]
  },
  {
   "cell_type": "markdown",
   "id": "82048642",
   "metadata": {},
   "source": [
    "Tasks going forward:\n",
    "- User Entry\n",
    "    - Prompt user to enter some number of countries, and a start year and end year.\n",
    "    - Returns a tuple of ([list of Strings as country names], [list of start year, end year]).\n",
    "\n",
    "- Dataframe cleaning:\n",
    "    Remove countries that have less that length/2 valid numbers.\n",
    "\n",
    "- Plotting:\n",
    "    - Plot for each metric containing:\n",
    "        - all contries and global average for time slice. \n",
    "\n",
    "- Presentation:\n",
    "    - Summary of problem statement\n",
    "    - Summary of data processing steps taken\n",
    "    - Figures\n",
    "    - Formatting into .pptx\n"
   ]
  }
 ],
 "metadata": {
  "kernelspec": {
   "display_name": "base",
   "language": "python",
   "name": "python3"
  },
  "language_info": {
   "codemirror_mode": {
    "name": "ipython",
    "version": 3
   },
   "file_extension": ".py",
   "mimetype": "text/x-python",
   "name": "python",
   "nbconvert_exporter": "python",
   "pygments_lexer": "ipython3",
   "version": "3.10.9"
  }
 },
 "nbformat": 4,
 "nbformat_minor": 5
}
